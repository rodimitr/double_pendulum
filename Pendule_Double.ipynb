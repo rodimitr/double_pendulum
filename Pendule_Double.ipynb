{
 "cells": [
  {
   "cell_type": "markdown",
   "metadata": {},
   "source": [
    "Nous nous intéressons dans ce travail au problème du pendule double. La première étape sera d'implémenter les équations du mouvement. Celles-ci sont déterminées par le Lagrangien du pendule double:\n",
    "\n",
    "$$L=\\frac{1}{6}ml^{2}(\\dot{\\theta}_{2}^{2}+4\\dot{\\theta}_{2}^{2}+3\\dot{\\theta}_{1}\\dot{\\theta}_{2}\\cos{(\\theta_{1}-\\theta_{2}})) + \\frac{1}{2}mgl(3\\cos{\\theta_{1}} + \\cos{\\theta_{2}})$$\n",
    "\n",
    "Pour obtenir les équations du mouvement, nous appliquons l'équation de Lagrange:\n",
    "\n",
    "$$\\frac{d}{dt} \\left ( \\frac{\\partial L}{\\partial \\dot{q}_{j}} \\right ) = \\frac{\\partial L}{\\partial q_{j}}$$\n",
    "\n",
    "En développant cette expression pour $\\theta_{1}, \\dot{\\theta}_{1}$ et pour $\\theta_{2}, \\dot{\\theta}_{2}$, nous obtenons deux équations:\n",
    "\n",
    "$$8\\ddot{\\theta}_{1} + 3\\ddot{\\theta}_{2} \\cos{(\\theta_{1}-\\theta_{2})} + 3\\dot{\\theta}_{2}^{2} \\sin{(\\theta_{1}-\\theta_{2})} = -9 \\frac{g}{l} \\sin{\\theta_{1}}$$\n",
    "\n",
    "$$2\\ddot{\\theta}_{2} + 3\\ddot{\\theta}_{1} \\cos{(\\theta_{1}-\\theta_{2})} - 3\\dot{\\theta}_{1}^{2} \\sin{(\\theta_{1}-\\theta_{2})} = -3 \\frac{g}{l} \\sin{\\theta_{2}}$$\n",
    "\n",
    "Nous pouvons alors isoler les expressions de $\\ddot{\\theta}_{1}$ et $\\ddot{\\theta}_{2}$ pour obtenir les équations du mouvement que nous alons pouvoir utiliser:\n",
    "\n",
    "$$\\ddot{\\theta}_{1} = \\frac{-6 \\dot{\\theta}_{2}^{2} \\sin{(\\theta_{1}-\\theta_{2})} - 9 \\dot{\\theta}_{1}^{2} \\sin{(\\theta_{1}-\\theta_{2})} \\cos{(\\theta_{1}-\\theta_{2})} + 9 \\frac{g}{l} \\sin{\\theta_{2}} \\cos{(\\theta_{1}-\\theta_{2})} - 18 \\frac{g}{l} \\sin{\\theta_{1}}}{16 - 9 \\cos{(\\theta_{1}-\\theta_{2})}^{2}}$$\n",
    "\n",
    "$$\\ddot{\\theta}_{2} = \\frac{24 \\dot{\\theta}_{1}^{2} \\sin{(\\theta_{1}-\\theta_{2})} + 9 \\dot{\\theta}_{2}^{2} \\sin{(\\theta_{1}-\\theta_{2})} \\cos{(\\theta_{1}-\\theta_{2})} - 24 \\frac{g}{l} \\sin{\\theta_{2}} + 27 \\frac{g}{l} \\sin{\\theta_{1}} \\cos{(\\theta_{1}-\\theta_{2})}}{16 - 9 \\cos{(\\theta_{1}-\\theta_{2})}^{2}}$$\n",
    "\n",
    "Ces équations ne peuvent pas être intégrées analytiquement. Cependant, nous pouvons le faire numériquement. Pour cela, nous allons utiliser la méthode Runge-Kutta d'ordre 4, afin d'obtenir les valeurs de $\\theta_{1}, \\theta_{2}$ en fonction du temps.\n",
    "\n",
    "Pour cela, nous effectuons d'abord un changement de variables, afin de nous ramener à des équations différentielles du premier ordre. \n",
    "\n",
    "Posons $\\begin{cases} \\omega_{1} = \\dot{\\theta}_{1} \\\\ \\omega_{2} = \\dot{\\theta}_{2} \\end{cases}$\n",
    "\n",
    "Nous obtenons ainsi un système d'équations du premier ordre:\n",
    "\n",
    "$$\\begin{cases} \\dot{\\theta}_{1} = \\omega_{1} \\\\\n",
    "\\dot{\\omega}_{1} = \\frac{-6 \\omega_{2}^{2} \\sin{(\\theta_{1}-\\theta_{2})} - 9 \\omega_{1}^{2} \\sin{(\\theta_{1}-\\theta_{2})} \\cos{(\\theta_{1}-\\theta_{2})} + 9 \\frac{g}{l} \\sin{\\theta_{2}} \\cos{(\\theta_{1}-\\theta_{2})} - 18 \\frac{g}{l} \\sin{\\theta_{1}}}{16 - 9 \\cos{(\\theta_{1}-\\theta_{2})}^{2}} \\\\\n",
    "\\dot{\\theta}_{2} = \\omega_{2}\\\\\n",
    "\\dot{\\omega}_{2} = \\frac{24 \\omega_{1}^{2} \\sin{(\\theta_{1}-\\theta_{2})} + 9 \\omega_{2}^{2} \\sin{(\\theta_{1}-\\theta_{2})} \\cos{(\\theta_{1}-\\theta_{2})} - 24 \\frac{g}{l} \\sin{\\theta_{2}} + 27 \\frac{g}{l} \\sin{\\theta_{1}} \\cos{(\\theta_{1}-\\theta_{2})}}{16 - 9 \\cos{(\\theta_{1}-\\theta_{2})}^{2}} \\end{cases}$$\n",
    "\n",
    "Appliquons la méthode Runge-Kutta d'ordre 4 à ce système."
   ]
  },
  {
   "cell_type": "code",
   "execution_count": 77,
   "metadata": {
    "collapsed": true
   },
   "outputs": [],
   "source": [
    "import math\n",
    "import numpy\n",
    "from matplotlib import pyplot\n",
    "%matplotlib inline"
   ]
  },
  {
   "cell_type": "code",
   "execution_count": 78,
   "metadata": {
    "collapsed": true
   },
   "outputs": [],
   "source": [
    "# Set the parameters\n",
    "m = 1.0\n",
    "L = 1.0\n",
    "g = 9.81\n",
    "dt = 0.001\n",
    "tmax = 20.0\n",
    "# Set initial condition\n",
    "th1_init = numpy.pi/2\n",
    "th2_init = numpy.pi/2\n",
    "thdot1_init = 0.0\n",
    "thdot2_init = 0.0"
   ]
  },
  {
   "cell_type": "code",
   "execution_count": 79,
   "metadata": {
    "collapsed": true
   },
   "outputs": [],
   "source": [
    "def omegadot1(omega1, omega2, th1, th2, g = 9.81, L = 1.0, m = 1.0):\n",
    "    \"\"\"\n",
    "    Returns the value of the second derivative for theta1 at given time\n",
    "    \n",
    "    Parameters\n",
    "    ------\n",
    "    omega1 : float\n",
    "            value of the derivative for first angle at given time\n",
    "    omega2 : float\n",
    "            value of the derivative for second angle at given time\n",
    "    th1 : float\n",
    "            value of first angle at given time\n",
    "    th2 : float\n",
    "            value of second angle at given time\n",
    "    g : float, optionnal\n",
    "            gravitational acceleration\n",
    "            default value : 9.81\n",
    "    L : float, optionnal\n",
    "            lenght of each rod\n",
    "            default value : 1.0\n",
    "    m : float, optionnal\n",
    "            mass of each rod\n",
    "            default value : 1.0\n",
    "    \n",
    "    Returns\n",
    "    -------\n",
    "    thdotdot1 : float\n",
    "        value of the second derivative for first angle at given time\n",
    "\n",
    "    \n",
    "    \"\"\"\n",
    "    thdotdot1 = ((-9 * omega1**2 * math.sin(th1-th2) * math.cos(th1-th2) -\n",
    "                  6 * omega2**2 * math.sin(th1-th2) +\n",
    "                  9 * g/L * math.sin(th2) * math.cos(th1-th2) -\n",
    "                  18*(g/L) * math.sin(th1)) / \n",
    "                 (16 - 9 * (math.cos(th1-th2))**2))\n",
    "    \n",
    "    return thdotdot1\n",
    "\n",
    "def omegadot2(omega1, omega2, th1, th2, g = 9.81, L = 1.0, m = 1.0):\n",
    "     \"\"\"\n",
    "    Returns the value of the second derivative for theta2 at given time\n",
    "    \n",
    "    Parameters\n",
    "    ------\n",
    "    omega1 : float\n",
    "            value of the derivative for first angle at given time\n",
    "    omega2 : float\n",
    "            value of the derivative for second angle at given time\n",
    "    th1 : float\n",
    "            value of first angle at given time\n",
    "    th2 : float\n",
    "            value of second angle at given time\n",
    "    g : float, optionnal\n",
    "            gravitational acceleration\n",
    "            default value : 9.81\n",
    "    L : float, optionnal\n",
    "            lenght of each rod\n",
    "            default value : 1.0\n",
    "    m : float, optionnal\n",
    "            mass of each rod\n",
    "            default value : 1.0\n",
    "    \n",
    "    Returns\n",
    "    -------\n",
    "    thdotdot2 : float\n",
    "        value of the second derivative for second angle at given time\n",
    "\n",
    "    \n",
    "    \"\"\"\n",
    "    thdotdot2 = ((24 * omega1**2 * math.sin(th1-th2) +\n",
    "                  9* omega2**2 * math.sin(th1-th2) * math.cos(th1-th2) -\n",
    "                  24*g/L* math.sin(th2) + \n",
    "                  27*g/L * math.sin(th1) * math.cos(th1-th2)) /\n",
    "                 (16 - 9 * (math.cos(th1-th2))**2))\n",
    "        \n",
    "    return thdotdot2"
   ]
  },
  {
   "cell_type": "code",
   "execution_count": 80,
   "metadata": {
    "collapsed": true
   },
   "outputs": [],
   "source": [
    "def rk4_step(udot, vdot, u, v, dt, f, g, *args):\n",
    "    \"\"\"\n",
    "    Returns the solution at the next time step using RK4 method\n",
    "    \n",
    "    Parameters:\n",
    "    ------\n",
    "    udot : float\n",
    "        Solution for the first derivative of first variable at previous time step\n",
    "    vdot : float\n",
    "        Solution for the first derivative of second variable at previous time step\n",
    "    u : float\n",
    "        value of first variable at previous time step\n",
    "    v : float\n",
    "        value of second variable at previous time step\n",
    "    dt : float\n",
    "        time-step size\n",
    "    f : function\n",
    "        function to compute the derivatives of first variable\n",
    "    g : function\n",
    "        function to compute the derivatives of second variable\n",
    "    args : tuple, optionnal\n",
    "        positional arguments to pass to the functions f and g\n",
    "        \n",
    "    Returns:\n",
    "    ------\n",
    "    step : numpy.ndarray\n",
    "        the solution at next time-step\n",
    "        as a 1D array of floats\n",
    "    \"\"\"\n",
    "    k0 = f(udot, vdot, u, v, *args) * dt\n",
    "    j0 = g(udot, vdot, u, v, *args) * dt\n",
    "    k1 = f(udot + k0/2, vdot + j0/2, u, v, *args) * dt \n",
    "    j1 = g(udot + k0/2, vdot + j0/2, u, v, *args) * dt\n",
    "    k2 = f(udot + k1/2, vdot + j1/2, u, v, *args) * dt\n",
    "    j2 = g(udot + k1/2, vdot + j1/2, u, v, *args) * dt\n",
    "    k3 = f(udot + k2, vdot + j2, u, v, *args) * dt\n",
    "    j3 = g(udot + k2, vdot + j2, u, v, *args) * dt\n",
    "    \n",
    "    udot_new = udot + (k0 + 2*k1 + 2*k2 + k3)/6\n",
    "    vdot_new = vdot + (j0 + 2*j1 + 2*j2 + j3)/6\n",
    "    u_new = u + dt * udot\n",
    "    v_new = v + dt * vdot\n",
    "    \n",
    "    step = numpy.array([udot_new, vdot_new, u_new, v_new])\n",
    "    \n",
    "    return step"
   ]
  },
  {
   "cell_type": "code",
   "execution_count": 81,
   "metadata": {
    "collapsed": true
   },
   "outputs": [],
   "source": [
    "N = int(tmax/dt) + 1 # number of time steps\n",
    "# Set initial conditions\n",
    "res = numpy.empty((N, 4))\n",
    "res[0] = numpy.array([thdot1_init, thdot2_init, th1_init, th2_init])\n",
    "t = 0.0\n",
    "# Time integration using RK4 method\n",
    "for n in range(N-1):\n",
    "    res[n+1] = rk4_step(res[n][0], res[n][1], res[n][2], res[n][3], dt, omegadot1, omegadot2)\n",
    "    t = t + dt"
   ]
  },
  {
   "cell_type": "code",
   "execution_count": 82,
   "metadata": {},
   "outputs": [
    {
     "name": "stdout",
     "output_type": "stream",
     "text": [
      "Valeurs à t = 20 secondes:\n",
      "Coordonées de l'extrémité de la première barre: (-0.982 ,0.191)\n",
      "Coordonées de l'extrémité de la seconde barre: (-0.016 ,0.450)\n"
     ]
    }
   ],
   "source": [
    "th1 = res[:, 2]%(2*numpy.pi) # array of values for theta1\n",
    "th2 = res[:, 3]%(2*numpy.pi) # array of values for theta2\n",
    "# Coordinates of the end of first and second rod\n",
    "# at time t = tmax\n",
    "x1 = L * math.sin(th1[-1])\n",
    "y1 = - L * math.cos(th1[-1])\n",
    "x2 = L * math.sin(th1[-1]) + L * math.sin(th2[-1])\n",
    "y2 = - L * math.cos(th1[-1]) - L * math.cos(th2[-1])\n",
    "\n",
    "print(\"Valeurs à t = {:.0f} secondes:\".format(t))\n",
    "print(\"Coordonées de l'extrémité de la première barre: ({:.3f}\".format(x1),\",{:.3f})\".format(y1))\n",
    "print(\"Coordonées de l'extrémité de la seconde barre: ({:.3f}\".format(x2),\",{:.3f})\".format(y2))"
   ]
  },
  {
   "cell_type": "code",
   "execution_count": 73,
   "metadata": {
    "collapsed": true
   },
   "outputs": [],
   "source": [
    "def l1_diff(u_coarse, u_fine, dt):\n",
    "    \"\"\"\n",
    "    Returns the difference in the L1-norm between the solution on\n",
    "    a coarse grid and the solution on a fine grid.\n",
    "    \n",
    "    Parameters\n",
    "    ----------\n",
    "    u_coarse : numpy.ndarray\n",
    "        Solution on the coarse grid as a 1D array of floats.\n",
    "    u_fine : numpy.ndarray\n",
    "        Solution on the fine grid as a 1D array of floats.\n",
    "    dt : float\n",
    "        Time-step size.\n",
    "    \n",
    "    Returns\n",
    "    -------\n",
    "    diff : float\n",
    "        The difference between the two solution in the L1-norm\n",
    "        scaled by the time-step size.\n",
    "    \"\"\"\n",
    "    N_coarse = len(u_coarse)\n",
    "    N_fine = len(u_fine)\n",
    "    ratio = math.ceil(N_fine / N_coarse)\n",
    "    diff = dt * numpy.sum(numpy.abs(u_coarse - u_fine[::ratio]))\n",
    "    return diff"
   ]
  },
  {
   "cell_type": "code",
   "execution_count": 66,
   "metadata": {},
   "outputs": [
    {
     "name": "stdout",
     "output_type": "stream",
     "text": [
      "20001\n",
      "10001\n",
      "5001\n",
      "3\n",
      "3\n"
     ]
    },
    {
     "name": "stderr",
     "output_type": "stream",
     "text": [
      "/home/rossen/CTRL-C/lib/python3.6/site-packages/ipykernel_launcher.py:4: RuntimeWarning: overflow encountered in double_scalars\n",
      "  after removing the cwd from sys.path.\n",
      "/home/rossen/CTRL-C/lib/python3.6/site-packages/ipykernel_launcher.py:4: RuntimeWarning: invalid value encountered in double_scalars\n",
      "  after removing the cwd from sys.path.\n",
      "/home/rossen/CTRL-C/lib/python3.6/site-packages/ipykernel_launcher.py:13: RuntimeWarning: overflow encountered in double_scalars\n",
      "  del sys.path[0]\n",
      "/home/rossen/CTRL-C/lib/python3.6/site-packages/ipykernel_launcher.py:13: RuntimeWarning: invalid value encountered in double_scalars\n",
      "  del sys.path[0]\n"
     ]
    }
   ],
   "source": [
    "r = 2  # time-step size refinement ratio\n",
    "dt_min = 0.001  # finest time-step size\n",
    "\n",
    "dt_values = [dt_min, r * dt_min, r**2 * dt_min]\n",
    "res_values = []\n",
    "\n",
    "for i in range(len(dt_values)):\n",
    "    N = int(tmax / (dt_values[i])) + 1  # number of time steps\n",
    "    print(N)\n",
    "    # Set initial conditions.\n",
    "    res = numpy.empty((N,4))\n",
    "    res[0] = numpy.array([thdot1_init, thdot2_init, th1_init, th2_init])\n",
    "    # Time integration using RK4 method.\n",
    "    for n in range(N - 1):\n",
    "        res[n + 1] = rk4_step(res[n, 0], res[n, 1], res[n, 2], res[n, 3], dt_values[i], omegadot1, omegadot2)\n",
    "    res_values.append(res)\n"
   ]
  },
  {
   "cell_type": "code",
   "execution_count": 74,
   "metadata": {},
   "outputs": [
    {
     "name": "stdout",
     "output_type": "stream",
     "text": [
      "10001\n",
      "5001\n",
      "nan\n",
      "nan\n",
      "Observed order of convergence: p = nan\n"
     ]
    }
   ],
   "source": [
    "# Compute the observed order of convergence.\n",
    "p = (math.log(l1_diff(res_values[2][:, 3], res_values[1][:, 3], dt_values[2]) /\n",
    "              l1_diff(res_values[1][:, 3], res_values[0][:, 3], dt_values[1])) /\n",
    "     math.log(r))\n",
    "h = l1_diff(res_values[2][:, 3], res_values[1][:, 3], dt_values[2])\n",
    "print(len(res_values[1][:, 3]))\n",
    "print(len(res_values[2][:, 3]))\n",
    "print(h)\n",
    "print(p)\n",
    "print('Observed order of convergence: p = {:.3f}'.format(p))"
   ]
  },
  {
   "cell_type": "code",
   "execution_count": 43,
   "metadata": {},
   "outputs": [
    {
     "name": "stderr",
     "output_type": "stream",
     "text": [
      "/home/rossen/CTRL-C/lib/python3.6/site-packages/ipykernel_launcher.py:4: RuntimeWarning: overflow encountered in double_scalars\n",
      "  after removing the cwd from sys.path.\n",
      "/home/rossen/CTRL-C/lib/python3.6/site-packages/ipykernel_launcher.py:4: RuntimeWarning: invalid value encountered in double_scalars\n",
      "  after removing the cwd from sys.path.\n",
      "/home/rossen/CTRL-C/lib/python3.6/site-packages/ipykernel_launcher.py:13: RuntimeWarning: overflow encountered in double_scalars\n",
      "  del sys.path[0]\n",
      "/home/rossen/CTRL-C/lib/python3.6/site-packages/ipykernel_launcher.py:13: RuntimeWarning: invalid value encountered in double_scalars\n",
      "  del sys.path[0]\n"
     ]
    },
    {
     "ename": "ValueError",
     "evalue": "operands could not be broadcast together with shapes (20001,) (5001,) ",
     "output_type": "error",
     "traceback": [
      "\u001b[0;31m---------------------------------------------------------------------------\u001b[0m",
      "\u001b[0;31mValueError\u001b[0m                                Traceback (most recent call last)",
      "\u001b[0;32m<ipython-input-43-70975f3836ec>\u001b[0m in \u001b[0;36m<module>\u001b[0;34m()\u001b[0m\n\u001b[1;32m     13\u001b[0m \u001b[0;34m\u001b[0m\u001b[0m\n\u001b[1;32m     14\u001b[0m \u001b[0;32mfor\u001b[0m \u001b[0mi\u001b[0m\u001b[0;34m,\u001b[0m \u001b[0mdt\u001b[0m \u001b[0;32min\u001b[0m \u001b[0menumerate\u001b[0m\u001b[0;34m(\u001b[0m\u001b[0mdt_values\u001b[0m\u001b[0;34m[\u001b[0m\u001b[0;34m:\u001b[0m\u001b[0;34m-\u001b[0m\u001b[0;36m1\u001b[0m\u001b[0;34m]\u001b[0m\u001b[0;34m)\u001b[0m\u001b[0;34m:\u001b[0m\u001b[0;34m\u001b[0m\u001b[0m\n\u001b[0;32m---> 15\u001b[0;31m     \u001b[0mdiff\u001b[0m \u001b[0;34m=\u001b[0m \u001b[0ml1_diff\u001b[0m\u001b[0;34m(\u001b[0m\u001b[0mu_values\u001b[0m\u001b[0;34m[\u001b[0m\u001b[0mi\u001b[0m\u001b[0;34m]\u001b[0m\u001b[0;34m[\u001b[0m\u001b[0;34m:\u001b[0m\u001b[0;34m,\u001b[0m \u001b[0;36m3\u001b[0m\u001b[0;34m]\u001b[0m\u001b[0;34m,\u001b[0m \u001b[0mu_values\u001b[0m\u001b[0;34m[\u001b[0m\u001b[0;34m-\u001b[0m\u001b[0;36m1\u001b[0m\u001b[0;34m]\u001b[0m\u001b[0;34m[\u001b[0m\u001b[0;34m:\u001b[0m\u001b[0;34m,\u001b[0m \u001b[0;36m3\u001b[0m\u001b[0;34m]\u001b[0m\u001b[0;34m,\u001b[0m \u001b[0mdt\u001b[0m\u001b[0;34m)\u001b[0m\u001b[0;34m\u001b[0m\u001b[0m\n\u001b[0m\u001b[1;32m     16\u001b[0m     \u001b[0mdiff_values\u001b[0m\u001b[0;34m.\u001b[0m\u001b[0mappend\u001b[0m\u001b[0;34m(\u001b[0m\u001b[0mdiff\u001b[0m\u001b[0;34m)\u001b[0m\u001b[0;34m\u001b[0m\u001b[0m\n",
      "\u001b[0;32m<ipython-input-41-d637e095aa5f>\u001b[0m in \u001b[0;36ml1_diff\u001b[0;34m(u_coarse, u_fine, dt)\u001b[0m\n\u001b[1;32m     22\u001b[0m     \u001b[0mN_fine\u001b[0m \u001b[0;34m=\u001b[0m \u001b[0mu_fine\u001b[0m\u001b[0;34m.\u001b[0m\u001b[0mshape\u001b[0m\u001b[0;34m[\u001b[0m\u001b[0;36m0\u001b[0m\u001b[0;34m]\u001b[0m\u001b[0;34m\u001b[0m\u001b[0m\n\u001b[1;32m     23\u001b[0m     \u001b[0mratio\u001b[0m \u001b[0;34m=\u001b[0m \u001b[0mmath\u001b[0m\u001b[0;34m.\u001b[0m\u001b[0mceil\u001b[0m\u001b[0;34m(\u001b[0m\u001b[0mN_fine\u001b[0m \u001b[0;34m/\u001b[0m \u001b[0mN_coarse\u001b[0m\u001b[0;34m)\u001b[0m\u001b[0;34m\u001b[0m\u001b[0m\n\u001b[0;32m---> 24\u001b[0;31m     \u001b[0mdiff\u001b[0m \u001b[0;34m=\u001b[0m \u001b[0mdt\u001b[0m \u001b[0;34m*\u001b[0m \u001b[0mnumpy\u001b[0m\u001b[0;34m.\u001b[0m\u001b[0msum\u001b[0m\u001b[0;34m(\u001b[0m\u001b[0mnumpy\u001b[0m\u001b[0;34m.\u001b[0m\u001b[0mabs\u001b[0m\u001b[0;34m(\u001b[0m\u001b[0mu_coarse\u001b[0m \u001b[0;34m-\u001b[0m \u001b[0mu_fine\u001b[0m\u001b[0;34m[\u001b[0m\u001b[0;34m:\u001b[0m\u001b[0;34m:\u001b[0m\u001b[0mratio\u001b[0m\u001b[0;34m]\u001b[0m\u001b[0;34m)\u001b[0m\u001b[0;34m)\u001b[0m\u001b[0;34m\u001b[0m\u001b[0m\n\u001b[0m\u001b[1;32m     25\u001b[0m     \u001b[0;32mreturn\u001b[0m \u001b[0mdiff\u001b[0m\u001b[0;34m\u001b[0m\u001b[0m\n",
      "\u001b[0;31mValueError\u001b[0m: operands could not be broadcast together with shapes (20001,) (5001,) "
     ]
    }
   ],
   "source": [
    "# Create an empty list to store the difference in the solution\n",
    "# between two consecutive grids.\n",
    "diff_values = []\n",
    "for dt in dt_values:\n",
    "    N = int(tmax / dt) + 1  # number of time steps\n",
    "    # Set initial conditions.\n",
    "    u = numpy.empty((N, 4))\n",
    "    u[0] = numpy.array([thdot1_init, thdot2_init, th1_init, th2_init])\n",
    "    # Time integration using RK4 method.\n",
    "    for n in range(N - 1):\n",
    "        u[n + 1] = rk4_step(u[n][0], u[n][1], u[n][2], u[n][3], dt, omegadot1, omegadot2)\n",
    "    u_values.append(u)\n",
    "    \n",
    "for i, dt in enumerate(dt_values[:-1]):\n",
    "    diff = l1_diff(u_values[i][:, 3], u_values[-1][:, 3], dt)\n",
    "    diff_values.append(diff)"
   ]
  },
  {
   "cell_type": "code",
   "execution_count": 97,
   "metadata": {},
   "outputs": [
    {
     "ename": "ValueError",
     "evalue": "x and y must have same first dimension, but have shapes (2,) and (1,)",
     "output_type": "error",
     "traceback": [
      "\u001b[0;31m---------------------------------------------------------------------------\u001b[0m",
      "\u001b[0;31mValueError\u001b[0m                                Traceback (most recent call last)",
      "\u001b[0;32m<ipython-input-97-e0454c05d7fa>\u001b[0m in \u001b[0;36m<module>\u001b[0;34m()\u001b[0m\n\u001b[1;32m      6\u001b[0m \u001b[0mpyplot\u001b[0m\u001b[0;34m.\u001b[0m\u001b[0mgrid\u001b[0m\u001b[0;34m(\u001b[0m\u001b[0;34m)\u001b[0m\u001b[0;34m\u001b[0m\u001b[0m\n\u001b[1;32m      7\u001b[0m pyplot.loglog(dt_values[:-1], diff_values[:-1],\n\u001b[0;32m----> 8\u001b[0;31m               color='C0', linestyle='--', marker='o')\n\u001b[0m\u001b[1;32m      9\u001b[0m \u001b[0mpyplot\u001b[0m\u001b[0;34m.\u001b[0m\u001b[0maxis\u001b[0m\u001b[0;34m(\u001b[0m\u001b[0;34m'equal'\u001b[0m\u001b[0;34m)\u001b[0m\u001b[0;34m;\u001b[0m\u001b[0;34m\u001b[0m\u001b[0m\n",
      "\u001b[0;32m~/CTRL-C/lib/python3.6/site-packages/matplotlib/pyplot.py\u001b[0m in \u001b[0;36mloglog\u001b[0;34m(*args, **kwargs)\u001b[0m\n\u001b[1;32m   3099\u001b[0m                       mplDeprecation)\n\u001b[1;32m   3100\u001b[0m     \u001b[0;32mtry\u001b[0m\u001b[0;34m:\u001b[0m\u001b[0;34m\u001b[0m\u001b[0m\n\u001b[0;32m-> 3101\u001b[0;31m         \u001b[0mret\u001b[0m \u001b[0;34m=\u001b[0m \u001b[0max\u001b[0m\u001b[0;34m.\u001b[0m\u001b[0mloglog\u001b[0m\u001b[0;34m(\u001b[0m\u001b[0;34m*\u001b[0m\u001b[0margs\u001b[0m\u001b[0;34m,\u001b[0m \u001b[0;34m**\u001b[0m\u001b[0mkwargs\u001b[0m\u001b[0;34m)\u001b[0m\u001b[0;34m\u001b[0m\u001b[0m\n\u001b[0m\u001b[1;32m   3102\u001b[0m     \u001b[0;32mfinally\u001b[0m\u001b[0;34m:\u001b[0m\u001b[0;34m\u001b[0m\u001b[0m\n\u001b[1;32m   3103\u001b[0m         \u001b[0max\u001b[0m\u001b[0;34m.\u001b[0m\u001b[0m_hold\u001b[0m \u001b[0;34m=\u001b[0m \u001b[0mwashold\u001b[0m\u001b[0;34m\u001b[0m\u001b[0m\n",
      "\u001b[0;32m~/CTRL-C/lib/python3.6/site-packages/matplotlib/axes/_axes.py\u001b[0m in \u001b[0;36mloglog\u001b[0;34m(self, *args, **kwargs)\u001b[0m\n\u001b[1;32m   1570\u001b[0m         \u001b[0mb\u001b[0m \u001b[0;34m=\u001b[0m \u001b[0mself\u001b[0m\u001b[0;34m.\u001b[0m\u001b[0m_hold\u001b[0m\u001b[0;34m\u001b[0m\u001b[0m\n\u001b[1;32m   1571\u001b[0m         \u001b[0mself\u001b[0m\u001b[0;34m.\u001b[0m\u001b[0m_hold\u001b[0m \u001b[0;34m=\u001b[0m \u001b[0;32mTrue\u001b[0m  \u001b[0;31m# we've already processed the hold\u001b[0m\u001b[0;34m\u001b[0m\u001b[0m\n\u001b[0;32m-> 1572\u001b[0;31m         \u001b[0ml\u001b[0m \u001b[0;34m=\u001b[0m \u001b[0mself\u001b[0m\u001b[0;34m.\u001b[0m\u001b[0mplot\u001b[0m\u001b[0;34m(\u001b[0m\u001b[0;34m*\u001b[0m\u001b[0margs\u001b[0m\u001b[0;34m,\u001b[0m \u001b[0;34m**\u001b[0m\u001b[0mkwargs\u001b[0m\u001b[0;34m)\u001b[0m\u001b[0;34m\u001b[0m\u001b[0m\n\u001b[0m\u001b[1;32m   1573\u001b[0m         \u001b[0mself\u001b[0m\u001b[0;34m.\u001b[0m\u001b[0m_hold\u001b[0m \u001b[0;34m=\u001b[0m \u001b[0mb\u001b[0m  \u001b[0;31m# restore the hold\u001b[0m\u001b[0;34m\u001b[0m\u001b[0m\n\u001b[1;32m   1574\u001b[0m \u001b[0;34m\u001b[0m\u001b[0m\n",
      "\u001b[0;32m~/CTRL-C/lib/python3.6/site-packages/matplotlib/__init__.py\u001b[0m in \u001b[0;36minner\u001b[0;34m(ax, *args, **kwargs)\u001b[0m\n\u001b[1;32m   1708\u001b[0m                     warnings.warn(msg % (label_namer, func.__name__),\n\u001b[1;32m   1709\u001b[0m                                   RuntimeWarning, stacklevel=2)\n\u001b[0;32m-> 1710\u001b[0;31m             \u001b[0;32mreturn\u001b[0m \u001b[0mfunc\u001b[0m\u001b[0;34m(\u001b[0m\u001b[0max\u001b[0m\u001b[0;34m,\u001b[0m \u001b[0;34m*\u001b[0m\u001b[0margs\u001b[0m\u001b[0;34m,\u001b[0m \u001b[0;34m**\u001b[0m\u001b[0mkwargs\u001b[0m\u001b[0;34m)\u001b[0m\u001b[0;34m\u001b[0m\u001b[0m\n\u001b[0m\u001b[1;32m   1711\u001b[0m         \u001b[0mpre_doc\u001b[0m \u001b[0;34m=\u001b[0m \u001b[0minner\u001b[0m\u001b[0;34m.\u001b[0m\u001b[0m__doc__\u001b[0m\u001b[0;34m\u001b[0m\u001b[0m\n\u001b[1;32m   1712\u001b[0m         \u001b[0;32mif\u001b[0m \u001b[0mpre_doc\u001b[0m \u001b[0;32mis\u001b[0m \u001b[0;32mNone\u001b[0m\u001b[0;34m:\u001b[0m\u001b[0;34m\u001b[0m\u001b[0m\n",
      "\u001b[0;32m~/CTRL-C/lib/python3.6/site-packages/matplotlib/axes/_axes.py\u001b[0m in \u001b[0;36mplot\u001b[0;34m(self, *args, **kwargs)\u001b[0m\n\u001b[1;32m   1435\u001b[0m         \u001b[0mkwargs\u001b[0m \u001b[0;34m=\u001b[0m \u001b[0mcbook\u001b[0m\u001b[0;34m.\u001b[0m\u001b[0mnormalize_kwargs\u001b[0m\u001b[0;34m(\u001b[0m\u001b[0mkwargs\u001b[0m\u001b[0;34m,\u001b[0m \u001b[0m_alias_map\u001b[0m\u001b[0;34m)\u001b[0m\u001b[0;34m\u001b[0m\u001b[0m\n\u001b[1;32m   1436\u001b[0m \u001b[0;34m\u001b[0m\u001b[0m\n\u001b[0;32m-> 1437\u001b[0;31m         \u001b[0;32mfor\u001b[0m \u001b[0mline\u001b[0m \u001b[0;32min\u001b[0m \u001b[0mself\u001b[0m\u001b[0;34m.\u001b[0m\u001b[0m_get_lines\u001b[0m\u001b[0;34m(\u001b[0m\u001b[0;34m*\u001b[0m\u001b[0margs\u001b[0m\u001b[0;34m,\u001b[0m \u001b[0;34m**\u001b[0m\u001b[0mkwargs\u001b[0m\u001b[0;34m)\u001b[0m\u001b[0;34m:\u001b[0m\u001b[0;34m\u001b[0m\u001b[0m\n\u001b[0m\u001b[1;32m   1438\u001b[0m             \u001b[0mself\u001b[0m\u001b[0;34m.\u001b[0m\u001b[0madd_line\u001b[0m\u001b[0;34m(\u001b[0m\u001b[0mline\u001b[0m\u001b[0;34m)\u001b[0m\u001b[0;34m\u001b[0m\u001b[0m\n\u001b[1;32m   1439\u001b[0m             \u001b[0mlines\u001b[0m\u001b[0;34m.\u001b[0m\u001b[0mappend\u001b[0m\u001b[0;34m(\u001b[0m\u001b[0mline\u001b[0m\u001b[0;34m)\u001b[0m\u001b[0;34m\u001b[0m\u001b[0m\n",
      "\u001b[0;32m~/CTRL-C/lib/python3.6/site-packages/matplotlib/axes/_base.py\u001b[0m in \u001b[0;36m_grab_next_args\u001b[0;34m(self, *args, **kwargs)\u001b[0m\n\u001b[1;32m    402\u001b[0m                 \u001b[0mthis\u001b[0m \u001b[0;34m+=\u001b[0m \u001b[0margs\u001b[0m\u001b[0;34m[\u001b[0m\u001b[0;36m0\u001b[0m\u001b[0;34m]\u001b[0m\u001b[0;34m,\u001b[0m\u001b[0;34m\u001b[0m\u001b[0m\n\u001b[1;32m    403\u001b[0m                 \u001b[0margs\u001b[0m \u001b[0;34m=\u001b[0m \u001b[0margs\u001b[0m\u001b[0;34m[\u001b[0m\u001b[0;36m1\u001b[0m\u001b[0;34m:\u001b[0m\u001b[0;34m]\u001b[0m\u001b[0;34m\u001b[0m\u001b[0m\n\u001b[0;32m--> 404\u001b[0;31m             \u001b[0;32mfor\u001b[0m \u001b[0mseg\u001b[0m \u001b[0;32min\u001b[0m \u001b[0mself\u001b[0m\u001b[0;34m.\u001b[0m\u001b[0m_plot_args\u001b[0m\u001b[0;34m(\u001b[0m\u001b[0mthis\u001b[0m\u001b[0;34m,\u001b[0m \u001b[0mkwargs\u001b[0m\u001b[0;34m)\u001b[0m\u001b[0;34m:\u001b[0m\u001b[0;34m\u001b[0m\u001b[0m\n\u001b[0m\u001b[1;32m    405\u001b[0m                 \u001b[0;32myield\u001b[0m \u001b[0mseg\u001b[0m\u001b[0;34m\u001b[0m\u001b[0m\n\u001b[1;32m    406\u001b[0m \u001b[0;34m\u001b[0m\u001b[0m\n",
      "\u001b[0;32m~/CTRL-C/lib/python3.6/site-packages/matplotlib/axes/_base.py\u001b[0m in \u001b[0;36m_plot_args\u001b[0;34m(self, tup, kwargs)\u001b[0m\n\u001b[1;32m    382\u001b[0m             \u001b[0mx\u001b[0m\u001b[0;34m,\u001b[0m \u001b[0my\u001b[0m \u001b[0;34m=\u001b[0m \u001b[0mindex_of\u001b[0m\u001b[0;34m(\u001b[0m\u001b[0mtup\u001b[0m\u001b[0;34m[\u001b[0m\u001b[0;34m-\u001b[0m\u001b[0;36m1\u001b[0m\u001b[0;34m]\u001b[0m\u001b[0;34m)\u001b[0m\u001b[0;34m\u001b[0m\u001b[0m\n\u001b[1;32m    383\u001b[0m \u001b[0;34m\u001b[0m\u001b[0m\n\u001b[0;32m--> 384\u001b[0;31m         \u001b[0mx\u001b[0m\u001b[0;34m,\u001b[0m \u001b[0my\u001b[0m \u001b[0;34m=\u001b[0m \u001b[0mself\u001b[0m\u001b[0;34m.\u001b[0m\u001b[0m_xy_from_xy\u001b[0m\u001b[0;34m(\u001b[0m\u001b[0mx\u001b[0m\u001b[0;34m,\u001b[0m \u001b[0my\u001b[0m\u001b[0;34m)\u001b[0m\u001b[0;34m\u001b[0m\u001b[0m\n\u001b[0m\u001b[1;32m    385\u001b[0m \u001b[0;34m\u001b[0m\u001b[0m\n\u001b[1;32m    386\u001b[0m         \u001b[0;32mif\u001b[0m \u001b[0mself\u001b[0m\u001b[0;34m.\u001b[0m\u001b[0mcommand\u001b[0m \u001b[0;34m==\u001b[0m \u001b[0;34m'plot'\u001b[0m\u001b[0;34m:\u001b[0m\u001b[0;34m\u001b[0m\u001b[0m\n",
      "\u001b[0;32m~/CTRL-C/lib/python3.6/site-packages/matplotlib/axes/_base.py\u001b[0m in \u001b[0;36m_xy_from_xy\u001b[0;34m(self, x, y)\u001b[0m\n\u001b[1;32m    241\u001b[0m         \u001b[0;32mif\u001b[0m \u001b[0mx\u001b[0m\u001b[0;34m.\u001b[0m\u001b[0mshape\u001b[0m\u001b[0;34m[\u001b[0m\u001b[0;36m0\u001b[0m\u001b[0;34m]\u001b[0m \u001b[0;34m!=\u001b[0m \u001b[0my\u001b[0m\u001b[0;34m.\u001b[0m\u001b[0mshape\u001b[0m\u001b[0;34m[\u001b[0m\u001b[0;36m0\u001b[0m\u001b[0;34m]\u001b[0m\u001b[0;34m:\u001b[0m\u001b[0;34m\u001b[0m\u001b[0m\n\u001b[1;32m    242\u001b[0m             raise ValueError(\"x and y must have same first dimension, but \"\n\u001b[0;32m--> 243\u001b[0;31m                              \"have shapes {} and {}\".format(x.shape, y.shape))\n\u001b[0m\u001b[1;32m    244\u001b[0m         \u001b[0;32mif\u001b[0m \u001b[0mx\u001b[0m\u001b[0;34m.\u001b[0m\u001b[0mndim\u001b[0m \u001b[0;34m>\u001b[0m \u001b[0;36m2\u001b[0m \u001b[0;32mor\u001b[0m \u001b[0my\u001b[0m\u001b[0;34m.\u001b[0m\u001b[0mndim\u001b[0m \u001b[0;34m>\u001b[0m \u001b[0;36m2\u001b[0m\u001b[0;34m:\u001b[0m\u001b[0;34m\u001b[0m\u001b[0m\n\u001b[1;32m    245\u001b[0m             raise ValueError(\"x and y can be no greater than 2-D, but have \"\n",
      "\u001b[0;31mValueError\u001b[0m: x and y must have same first dimension, but have shapes (2,) and (1,)"
     ]
    },
    {
     "data": {
      "image/png": "[encoded data removed]",
      "text/plain": [
       "<matplotlib.figure.Figure at 0x7f8d9bc8ecc0>"
      ]
     },
     "metadata": {},
     "output_type": "display_data"
    }
   ],
   "source": [
    "# Plot difference versus the time-step size.\n",
    "pyplot.figure(figsize=(6.0, 6.0))\n",
    "pyplot.title('L1-norm of the difference vs. time-step size')\n",
    "pyplot.xlabel('$\\Delta t$')\n",
    "pyplot.ylabel('Difference')\n",
    "pyplot.grid()\n",
    "pyplot.loglog(dt_values[:-1], diff_values[:-1],\n",
    "              color='C0', linestyle='--', marker='o')\n",
    "pyplot.axis('equal');"
   ]
  },
  {
   "cell_type": "code",
   "execution_count": null,
   "metadata": {
    "collapsed": true
   },
   "outputs": [],
   "source": []
  }
 ],
 "metadata": {
  "kernelspec": {
   "display_name": "Python 3",
   "language": "python",
   "name": "python3"
  },
  "language_info": {
   "codemirror_mode": {
    "name": "ipython",
    "version": 3
   },
   "file_extension": ".py",
   "mimetype": "text/x-python",
   "name": "python",
   "nbconvert_exporter": "python",
   "pygments_lexer": "ipython3",
   "version": "3.6.3"
  }
 },
 "nbformat": 4,
 "nbformat_minor": 2
}
