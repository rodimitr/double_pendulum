{
 "cells": [
  {
   "cell_type": "markdown",
   "metadata": {},
   "source": [
    "# Travail personnel d'analyse numérique : le pendule double\n",
    "\n",
    "Marine VILARIÑO FOSTIER\n",
    "\n",
    "Rossen DIMITROV\n",
    "\n",
    "### Introduction générale\n",
    "\n",
    "Nous nous intéressons dans ce travail au problème du pendule double. La première étape sera d'implémenter les équations du mouvement. Celles-ci sont déterminées par le Lagrangien du pendule double:\n",
    "\n",
    "$$L=\\frac{1}{6}ml^{2}(\\dot{\\theta}_{2}^{2}+4\\dot{\\theta}_{2}^{2}+3\\dot{\\theta}_{1}\\dot{\\theta}_{2}\\cos{(\\theta_{1}-\\theta_{2}})) + \\frac{1}{2}mgl(3\\cos{\\theta_{1}} + \\cos{\\theta_{2}})$$\n",
    "\n",
    "Pour obtenir les équations du mouvement, nous appliquons l'équation de Lagrange:\n",
    "\n",
    "$$\\frac{d}{dt} \\left ( \\frac{\\partial L}{\\partial \\dot{q}_{j}} \\right ) = \\frac{\\partial L}{\\partial q_{j}}$$\n",
    "\n",
    "En développant cette expression pour $\\theta_{1}, \\dot{\\theta}_{1}$ et pour $\\theta_{2}, \\dot{\\theta}_{2}$, nous obtenons deux équations:\n",
    "\n",
    "$$8\\ddot{\\theta}_{1} + 3\\ddot{\\theta}_{2} \\cos{(\\theta_{1}-\\theta_{2})} + 3\\dot{\\theta}_{2}^{2} \\sin{(\\theta_{1}-\\theta_{2})} = -9 \\frac{g}{l} \\sin{\\theta_{1}}$$\n",
    "\n",
    "$$2\\ddot{\\theta}_{2} + 3\\ddot{\\theta}_{1} \\cos{(\\theta_{1}-\\theta_{2})} - 3\\dot{\\theta}_{1}^{2} \\sin{(\\theta_{1}-\\theta_{2})} = -3 \\frac{g}{l} \\sin{\\theta_{2}}$$\n",
    "\n",
    "Nous pouvons alors isoler les expressions de $\\ddot{\\theta}_{1}$ et $\\ddot{\\theta}_{2}$ pour obtenir les équations du mouvement que nous alons pouvoir utiliser:\n",
    "\n",
    "$$\\ddot{\\theta}_{1} = \\frac{-6 \\dot{\\theta}_{2}^{2} \\sin{(\\theta_{1}-\\theta_{2})} - 9 \\dot{\\theta}_{1}^{2} \\sin{(\\theta_{1}-\\theta_{2})} \\cos{(\\theta_{1}-\\theta_{2})} + 9 \\frac{g}{l} \\sin{\\theta_{2}} \\cos{(\\theta_{1}-\\theta_{2})} - 18 \\frac{g}{l} \\sin{\\theta_{1}}}{16 - 9 \\cos{(\\theta_{1}-\\theta_{2})}^{2}}$$\n",
    "\n",
    "$$\\ddot{\\theta}_{2} = \\frac{24 \\dot{\\theta}_{1}^{2} \\sin{(\\theta_{1}-\\theta_{2})} + 9 \\dot{\\theta}_{2}^{2} \\sin{(\\theta_{1}-\\theta_{2})} \\cos{(\\theta_{1}-\\theta_{2})} - 24 \\frac{g}{l} \\sin{\\theta_{2}} + 27 \\frac{g}{l} \\sin{\\theta_{1}} \\cos{(\\theta_{1}-\\theta_{2})}}{16 - 9 \\cos{(\\theta_{1}-\\theta_{2})}^{2}}$$\n",
    "\n",
    "Ces équations ne peuvent pas être intégrées analytiquement. Cependant, nous pouvons le faire numériquement. Pour cela, nous allons utiliser la méthode Runge-Kutta d'ordre 4, afin d'obtenir les valeurs de $\\theta_{1}, \\theta_{2}$ en fonction du temps.\n",
    "\n",
    "Pour cela, nous effectuons d'abord un changement de variables, afin de nous ramener à des équations différentielles du premier ordre. \n",
    "\n",
    "Posons $\\begin{cases} \\omega_{1} = \\dot{\\theta}_{1} \\\\ \\omega_{2} = \\dot{\\theta}_{2} \\end{cases}$\n",
    "\n",
    "Nous obtenons ainsi un système d'équations du premier ordre:\n",
    "\n",
    "$$\\begin{cases} \\dot{\\theta}_{1} = \\omega_{1} \\\\\n",
    "\\dot{\\omega}_{1} = \\frac{-6 \\omega_{2}^{2} \\sin{(\\theta_{1}-\\theta_{2})} - 9 \\omega_{1}^{2} \\sin{(\\theta_{1}-\\theta_{2})} \\cos{(\\theta_{1}-\\theta_{2})} + 9 \\frac{g}{l} \\sin{\\theta_{2}} \\cos{(\\theta_{1}-\\theta_{2})} - 18 \\frac{g}{l} \\sin{\\theta_{1}}}{16 - 9 \\cos{(\\theta_{1}-\\theta_{2})}^{2}} \\\\\n",
    "\\dot{\\theta}_{2} = \\omega_{2}\\\\\n",
    "\\dot{\\omega}_{2} = \\frac{24 \\omega_{1}^{2} \\sin{(\\theta_{1}-\\theta_{2})} + 9 \\omega_{2}^{2} \\sin{(\\theta_{1}-\\theta_{2})} \\cos{(\\theta_{1}-\\theta_{2})} - 24 \\frac{g}{l} \\sin{\\theta_{2}} + 27 \\frac{g}{l} \\sin{\\theta_{1}} \\cos{(\\theta_{1}-\\theta_{2})}}{16 - 9 \\cos{(\\theta_{1}-\\theta_{2})}^{2}} \\end{cases}$$\n",
    "\n",
    "Appliquons la méthode Runge-Kutta d'ordre 4 à ce système.\n",
    "\n",
    "\n",
    "### Methode Runge-Kutta d'ordre 4\n",
    "\n",
    "La méthode permet de résoudre des problèmes aux conditions initiales de la forme $\\dot{y} = f(t, y), y(t_{0}) = y_{0}$\n",
    "\n",
    "En choisissant un intervale de temps $dt$, la solution de l'équation différentielle est donnée par un ensemble de valeurs $y_{n}$ défini par:\n",
    "\n",
    "$$ \\begin{cases} y_{n+1} = y_{n} + \\frac{1}{6}(k_{0} + 2k_{1} + 2k_{2} + k_{3})\n",
    "\\\\ t_{n+1} = t_{n} + dt \\end{cases} $$\n",
    "\n",
    "Où\n",
    "\n",
    "$$ \\begin{cases} k_{0} = dt.f(t_{n}, y_{n})\n",
    "\\\\ k_{1} = dt.f(t_{n} + \\frac{h}{2}, y_{n} + \\frac{k0}{2})\n",
    "\\\\ k_{2} = dt.f(t_{n} + \\frac{h}{2}, y_{n} + \\frac{k1}{2})\n",
    "\\\\ k_{3} = dt.f(t_{n} + h, y_{n} + k_{2}) \\end{cases}$$ \n",
    "\n",
    "Les équations du mouvement que nous utilisons n'ont pas de dépendance temporelle explicite. Elles sont exprimées sous la forme:\n",
    "\n",
    "$$ \\begin{cases} \\dot{\\omega}_{1} = f(\\omega_{1}, \\omega_{2}, \\theta_{1}, \\theta{2})\n",
    "\\\\ \\dot{\\omega}_{2} = g(\\omega_{1}, \\omega_{2}, \\theta_{1}, \\theta{2})\n",
    "\\\\ \\dot{\\theta}_{1} = h(\\omega_{1}, \\omega_{2}, \\theta_{1}, \\theta{2})\n",
    "\\\\ \\dot{\\theta}_{2} = i(\\omega_{1}, \\omega_{2}, \\theta_{1}, \\theta{2}) \\end{cases}$$\n",
    "\n",
    "Pour les résoudre, nous appliquons donc quatre fois la méthode. La solution pour $\\omega_{1}$ est par exemple:\n",
    "\n",
    "$$ \\omega_{1, n+1} = \\omega_{1, n} + \\frac{1}{6} (k_{0} + 2k_{1} + 2k_{2} + k_{3}) $$\n",
    "\n",
    "où\n",
    "\n",
    "$$\\begin{cases} k_{0} = dt.f(\\omega_{1, n}, \\omega_{2, n}, \\theta_{1, n}, \\theta_{2, n})\n",
    "\\\\ k_{1} = dt.f(\\omega_{1, n} + \\frac{k_{0}}{2}, \\omega_{2, n} + \\frac{j_{0}}{2}, \\theta_{1, n} + \\frac{l_{0}}{2}, \\theta_{2, n} + \\frac{m_{0}}{2})\n",
    "\\\\ k_{2} = dt.f(\\omega_{1, n} + \\frac{k_{1}}{2}, \\omega_{2, n} + \\frac{j_{1}}{2}, \\theta_{1, n} + \\frac{l_{1}}{2}, \\theta_{2, n} + \\frac{m_{1}}{2})\n",
    "\\\\ k_{3} = dt.f(\\omega_{1, n}+k_{2}, \\omega_{2, n}+j_{2}, \\theta_{1, n}+l_{2}, \\theta_{2, n}+m_{2}) \\end{cases}$$ \n",
    "\n",
    "et où les $j_{i}, l_{i}, m_{i}$ sont définis de façon similaire par rapport à $g, h, i$ respectivement."
   ]
  },
  {
   "cell_type": "code",
   "execution_count": 1,
   "metadata": {
    "collapsed": true
   },
   "outputs": [],
   "source": [
    "import math\n",
    "import numpy\n",
    "from matplotlib import pyplot\n",
    "%matplotlib inline"
   ]
  },
  {
   "cell_type": "code",
   "execution_count": 2,
   "metadata": {
    "collapsed": true
   },
   "outputs": [],
   "source": [
    "# Set the parameters\n",
    "m = 1.0\n",
    "L = 1.0\n",
    "g = 9.81\n",
    "dt = 0.001\n",
    "tmax = 20.0\n",
    "# Set initial condition\n",
    "th1_init = numpy.pi/2\n",
    "th2_init = numpy.pi/2\n",
    "thdot1_init = 0.0\n",
    "thdot2_init = 0.0"
   ]
  },
  {
   "cell_type": "code",
   "execution_count": 3,
   "metadata": {
    "collapsed": true
   },
   "outputs": [],
   "source": [
    "def omegadot1(omega1, omega2, th1, th2, g = 9.81, L = 1.0, m = 1.0):\n",
    "    \"\"\"\n",
    "    Returns the value of the second derivative for theta1 at given time\n",
    "    \n",
    "    Parameters\n",
    "    ------\n",
    "    omega1 : float\n",
    "            value of the derivative for first angle at given time\n",
    "    omega2 : float\n",
    "            value of the derivative for second angle at given time\n",
    "    th1 : float\n",
    "            value of first angle at given time\n",
    "    th2 : float\n",
    "            value of second angle at given time\n",
    "    g : float, optionnal\n",
    "            gravitational acceleration\n",
    "            default value : 9.81\n",
    "    L : float, optionnal\n",
    "            lenght of each rod\n",
    "            default value : 1.0\n",
    "    m : float, optionnal\n",
    "            mass of each rod\n",
    "            default value : 1.0\n",
    "    \n",
    "    Returns\n",
    "    -------\n",
    "    thdotdot1 : float\n",
    "        value of the second derivative for first angle at given time\n",
    "\n",
    "    \n",
    "    \"\"\"\n",
    "    thdotdot1 = ((-9 * omega1**2 * math.sin(th1-th2) * math.cos(th1-th2) -\n",
    "                  6 * omega2**2 * math.sin(th1-th2) +\n",
    "                  9 * g/L * math.sin(th2) * math.cos(th1-th2) -\n",
    "                  18*(g/L) * math.sin(th1)) / \n",
    "                 (16 - 9 * (math.cos(th1-th2))**2))\n",
    "    \n",
    "    return thdotdot1\n",
    "\n",
    "def omegadot2(omega1, omega2, th1, th2, g = 9.81, L = 1.0, m = 1.0):\n",
    "    \n",
    "    \"\"\"\n",
    "    Returns the value of the second derivative for theta2 at given time\n",
    "    \n",
    "    Parameters\n",
    "    ------\n",
    "    omega1 : float\n",
    "            value of the derivative for first angle at given time\n",
    "    omega2 : float\n",
    "            value of the derivative for second angle at given time\n",
    "    th1 : float\n",
    "            value of first angle at given time\n",
    "    th2 : float\n",
    "            value of second angle at given time\n",
    "    g : float, optionnal\n",
    "            gravitational acceleration\n",
    "            default value : 9.81\n",
    "    L : float, optionnal\n",
    "            lenght of each rod\n",
    "            default value : 1.0\n",
    "    m : float, optionnal\n",
    "            mass of each rod\n",
    "            default value : 1.0\n",
    "    \n",
    "    Returns\n",
    "    -------\n",
    "    thdotdot2 : float\n",
    "        value of the second derivative for second angle at given time\n",
    "    \"\"\"\n",
    "        \n",
    "    thdotdot2 = ((24 * omega1**2 * math.sin(th1-th2) +\n",
    "                  9* omega2**2 * math.sin(th1-th2) * math.cos(th1-th2) -\n",
    "                  24*g/L* math.sin(th2) + \n",
    "                  27*g/L * math.sin(th1) * math.cos(th1-th2)) /\n",
    "                 (16 - 9 * (math.cos(th1-th2))**2))\n",
    "        \n",
    "    return thdotdot2"
   ]
  },
  {
   "cell_type": "code",
   "execution_count": 15,
   "metadata": {
    "collapsed": true
   },
   "outputs": [],
   "source": [
    "def thetadot1(omega1, omega2, th1, th2):\n",
    "    thetadot1 = omega1\n",
    "    return thetadot1\n",
    "\n",
    "def thetadot2(omega1, omega2, th1, th2):\n",
    "    thetadot2 = omega2\n",
    "    return thetadot2"
   ]
  },
  {
   "cell_type": "code",
   "execution_count": 16,
   "metadata": {
    "collapsed": true
   },
   "outputs": [],
   "source": [
    "def rk4_step(udot, vdot, u, v, dt, f, g, h, i, *args):\n",
    "    \"\"\"\n",
    "    Returns the solution at the next time step using RK4 method\n",
    "    \n",
    "    Parameters:\n",
    "    ------\n",
    "    udot : float\n",
    "        Solution for the first derivative of first variable at previous time step\n",
    "    vdot : float\n",
    "        Solution for the first derivative of second variable at previous time step\n",
    "    u : float\n",
    "        value of first variable at previous time step\n",
    "    v : float\n",
    "        value of second variable at previous time step\n",
    "    dt : float\n",
    "        time-step size\n",
    "    f : function\n",
    "        function to compute the derivatives of first variable\n",
    "    g : function\n",
    "        function to compute the derivatives of second variable\n",
    "    args : tuple, optionnal\n",
    "        positional arguments to pass to the functions f and g\n",
    "        \n",
    "    Returns:\n",
    "    ------\n",
    "    step : numpy.ndarray\n",
    "        the solution at next time-step\n",
    "        as a 1D array of floats\n",
    "    \"\"\"\n",
    "    k0 = f(udot, vdot, u, v, *args) * dt\n",
    "    j0 = g(udot, vdot, u, v, *args) * dt\n",
    "    l0 = h(udot, vdot, u, v, *args) * dt\n",
    "    m0 = i(udot, vdot, u, v, *args) * dt\n",
    "    k1 = f(udot + k0/2, vdot + j0/2, u + l0/2, v + m0/2, *args) * dt \n",
    "    j1 = g(udot + k0/2, vdot + j0/2, u + l0/2, v + m0/2, *args) * dt\n",
    "    l1 = h(udot + k0/2, vdot + j0/2, u + l0/2, v + m0/2, *args) * dt \n",
    "    m1 = i(udot + k0/2, vdot + j0/2, u + l0/2, v + m0/2, *args) * dt \n",
    "    k2 = f(udot + k1/2, vdot + j1/2, u + l1/2, v + m1/2, *args) * dt\n",
    "    j2 = g(udot + k1/2, vdot + j1/2, u + l1/2, v + m1/2, *args) * dt\n",
    "    l2 = h(udot + k1/2, vdot + j1/2, u + l1/2, v + m1/2, *args) * dt\n",
    "    m2 = i(udot + k1/2, vdot + j1/2, u + l1/2, v + m1/2, *args) * dt\n",
    "    k3 = f(udot + k2, vdot + j2, u + l2, v + m2, *args) * dt\n",
    "    j3 = g(udot + k2, vdot + j2, u + l2, v + m2, *args) * dt\n",
    "    l3 = h(udot + k2, vdot + j2, u + l2, v + m2, *args) * dt\n",
    "    m3 = i(udot + k2, vdot + j2, u + l2, v + m2, *args) * dt\n",
    "    \n",
    "    udot_new = udot + (k0 + 2*k1 + 2*k2 + k3)/6\n",
    "    vdot_new = vdot + (j0 + 2*j1 + 2*j2 + j3)/6\n",
    "    u_new = u + (l0 + 2*l1 + 2*l2 + l3)/6\n",
    "    v_new = v + (m0 + 2*m1 + 2*m2 + m3)/6\n",
    "    \n",
    "    step = numpy.array([udot_new, vdot_new, u_new, v_new])\n",
    "    \n",
    "    return step"
   ]
  },
  {
   "cell_type": "code",
   "execution_count": 18,
   "metadata": {},
   "outputs": [],
   "source": [
    "N = int(tmax/dt) + 1 # number of time steps\n",
    "# Set initial conditions\n",
    "res = numpy.empty((N, 4))\n",
    "res[0] = numpy.array([thdot1_init, thdot2_init, th1_init, th2_init])\n",
    "t = 0.0\n",
    "# Time integration using RK4 method\n",
    "for n in range(N-1):\n",
    "    res[n+1] = rk4_step(res[n][0], res[n][1], res[n][2], res[n][3], dt, omegadot1, omegadot2, thetadot1, thetadot2)\n",
    "    t = t + dt"
   ]
  },
  {
   "cell_type": "code",
   "execution_count": 19,
   "metadata": {
    "scrolled": true
   },
   "outputs": [
    {
     "name": "stdout",
     "output_type": "stream",
     "text": [
      "Valeurs à t = 20 secondes:\n",
      "Coordonées de l'extrémité de la première barre: (0.664 ,-0.748)\n",
      "Coordonées de l'extrémité de la seconde barre: (0.037 ,0.031)\n"
     ]
    }
   ],
   "source": [
    "th1 = res[:, 2]%(2*numpy.pi) # array of values for theta1\n",
    "th2 = res[:, 3]%(2*numpy.pi) # array of values for theta2\n",
    "# Coordinates of the end of first and second rod\n",
    "# at time t = tmax\n",
    "x1 = L * math.sin(th1[-1])\n",
    "y1 = - L * math.cos(th1[-1])\n",
    "x2 = L * math.sin(th1[-1]) + L * math.sin(th2[-1])\n",
    "y2 = - L * math.cos(th1[-1]) - L * math.cos(th2[-1])\n",
    "\n",
    "print(\"Valeurs à t = {:.0f} secondes:\".format(t))\n",
    "print(\"Coordonées de l'extrémité de la première barre: ({:.3f}\".format(x1),\",{:.3f})\".format(y1))\n",
    "print(\"Coordonées de l'extrémité de la seconde barre: ({:.3f}\".format(x2),\",{:.3f})\".format(y2))"
   ]
  },
  {
   "cell_type": "code",
   "execution_count": 20,
   "metadata": {
    "collapsed": true
   },
   "outputs": [],
   "source": [
    "def l1_diff(u_coarse, u_fine, dt):\n",
    "    \"\"\"\n",
    "    Returns the difference in the L1-norm between the solution on\n",
    "    a coarse grid and the solution on a fine grid.\n",
    "    \n",
    "    Parameters\n",
    "    ----------\n",
    "    u_coarse : numpy.ndarray\n",
    "        Solution on the coarse grid as a 1D array of floats.\n",
    "    u_fine : numpy.ndarray\n",
    "        Solution on the fine grid as a 1D array of floats.\n",
    "    dt : float\n",
    "        Time-step size.\n",
    "    \n",
    "    Returns\n",
    "    -------\n",
    "    diff : float\n",
    "        The difference between the two solution in the L1-norm\n",
    "        scaled by the time-step size.\n",
    "    \"\"\"\n",
    "    N_coarse = len(u_coarse)\n",
    "    N_fine = len(u_fine)\n",
    "    ratio = math.ceil(N_fine / N_coarse)\n",
    "    diff = dt * numpy.sum(numpy.abs(u_coarse - u_fine[::ratio]))\n",
    "    return diff"
   ]
  },
  {
   "cell_type": "code",
   "execution_count": 21,
   "metadata": {},
   "outputs": [],
   "source": [
    "r = 2  # time-step size refinement ratio\n",
    "dt_min = 0.0001  # finest time-step size\n",
    "\n",
    "dt_values = [dt_min, r * dt_min, r**2 * dt_min]\n",
    "res_values = []\n",
    "\n",
    "for i in range(len(dt_values)):\n",
    "    N = int(tmax / (dt_values[i])) + 1  # number of time steps\n",
    "    # Set initial conditions.\n",
    "    res = numpy.empty((N,4))\n",
    "    res[0] = numpy.array([thdot1_init, thdot2_init, th1_init, th2_init])\n",
    "    # Time integration using RK4 method.\n",
    "    for n in range(N - 1):\n",
    "        res[n + 1, :] = rk4_step(res[n, 0], res[n, 1], res[n, 2], res[n, 3], dt_values[i], \n",
    "                                 omegadot1, omegadot2, thetadot1, thetadot2)\n",
    "    res_values.append(res)\n"
   ]
  },
  {
   "cell_type": "code",
   "execution_count": 22,
   "metadata": {
    "collapsed": true
   },
   "outputs": [],
   "source": [
    "diff_values = []\n",
    "for i, dt in enumerate(dt_values[:-1]):\n",
    "    diff = l1_diff(res_values[-1][:, 2], res_values[i][:, 2], dt)\n",
    "    diff_values.append(diff)"
   ]
  },
  {
   "cell_type": "code",
   "execution_count": 25,
   "metadata": {},
   "outputs": [
    {
     "data": {
      "image/png": "[encoded data removed]",
      "text/plain": [
       "<matplotlib.figure.Figure at 0x7f0bb462f198>"
      ]
     },
     "metadata": {},
     "output_type": "display_data"
    }
   ],
   "source": [
    "# Plot difference versus the time-step size.\n",
    "pyplot.figure(figsize=(6.0, 6.0))\n",
    "pyplot.title('L1-norm of the difference vs. time-step size')\n",
    "pyplot.xlabel('$\\Delta t$')\n",
    "pyplot.ylabel('Difference')\n",
    "pyplot.grid()\n",
    "pyplot.loglog(dt_values[:-1], diff_values, color='C0', linestyle='--', marker='o')\n",
    "pyplot.axis('equal');"
   ]
  },
  {
   "cell_type": "code",
   "execution_count": 24,
   "metadata": {},
   "outputs": [
    {
     "name": "stdout",
     "output_type": "stream",
     "text": [
      "Observed order of convergence: p = 3.832\n"
     ]
    }
   ],
   "source": [
    "# Compute the observed order of convergence.\n",
    "p = numpy.abs((math.log(l1_diff(res_values[2][:, 3], res_values[1][:, 3], dt_values[2]) /\n",
    "              l1_diff(res_values[1][:, 3], res_values[0][:, 3], dt_values[1])) /\n",
    "     math.log(r)))\n",
    "\n",
    "print('Observed order of convergence: p = {:.3f}'.format(p))"
   ]
  },
  {
   "cell_type": "code",
   "execution_count": null,
   "metadata": {
    "collapsed": true
   },
   "outputs": [],
   "source": []
  }
 ],
 "metadata": {
  "kernelspec": {
   "display_name": "Python 3",
   "language": "python",
   "name": "python3"
  },
  "language_info": {
   "codemirror_mode": {
    "name": "ipython",
    "version": 3
   },
   "file_extension": ".py",
   "mimetype": "text/x-python",
   "name": "python",
   "nbconvert_exporter": "python",
   "pygments_lexer": "ipython3",
   "version": "3.6.3"
  }
 },
 "nbformat": 4,
 "nbformat_minor": 2
}
